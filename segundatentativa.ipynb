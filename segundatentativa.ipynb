{
 "cells": [
  {
   "cell_type": "code",
   "execution_count": 81,
   "metadata": {},
   "outputs": [
    {
     "data": {
      "text/html": [
       "        <script type=\"text/javascript\">\n",
       "        window.PlotlyConfig = {MathJaxConfig: 'local'};\n",
       "        if (window.MathJax && window.MathJax.Hub && window.MathJax.Hub.Config) {window.MathJax.Hub.Config({SVG: {font: \"STIX-Web\"}});}\n",
       "        if (typeof require !== 'undefined') {\n",
       "        require.undef(\"plotly\");\n",
       "        requirejs.config({\n",
       "            paths: {\n",
       "                'plotly': ['https://cdn.plot.ly/plotly-2.16.1.min']\n",
       "            }\n",
       "        });\n",
       "        require(['plotly'], function(Plotly) {\n",
       "            window._Plotly = Plotly;\n",
       "        });\n",
       "        }\n",
       "        </script>\n",
       "        "
      ]
     },
     "metadata": {},
     "output_type": "display_data"
    }
   ],
   "source": [
    "#Reading the xlsx document\n",
    "import pandas as pd\n",
    "import numpy as np\n",
    "import plotly as py\n",
    "import  plotly.express  as  px\n",
    "import openpyxl\n",
    "import plotly.graph_objects as go\n",
    "from plotly.subplots import make_subplots\n",
    "from plotly.offline import init_notebook_mode, iplot\n",
    "from math import floor\n",
    "init_notebook_mode(connected=True)\n",
    "\n",
    "arq = openpyxl.load_workbook('planilhas.xlsx') \n",
    "matricula_aluno = int(67106); #matricula do aluno\n",
    "#Estrutura do arquivo xlsx\n",
    "#Geral: Identificação | Professor | Período | Peso | Matéria\n",
    "#'Nome_d_matéria': Matrícula | Nome | Avaliação 1 | Peso A1 | Avaliação 2 | Peso A2...\n",
    "\n",
    "#Estrutura do Data_base: { //Dicionário\n",
    "# 'Nome' : DANIEL JACOB TONN OK \n",
    "# 'Matricula' : 2019000000   OK\n",
    "# 'Estatística': { //Dicionário\n",
    "#                   'Período': 2022.2\n",
    "#                   'Peso': 2       \n",
    "#                   'Nota': (7.0) //Tupla\n",
    "#                   'Avaliação1': (7.0, 2) //Tupla\n",
    "#                   'Avaliação2': (8.0, 2) //Tupla\n",
    "#                          }\n",
    "# 'Análise Real': { //Dicionário\n",
    "#                   'Período': 2022.2\n",
    "#                   'Peso': 2       \n",
    "#                   'Nota': (7.0) //Tupla\n",
    "#                   'Avaliação1': (7.0, 2) //Tupla\n",
    "#                   'Avaliação2': (8.0, 2) //Tupla\n",
    "#                          }\n",
    "# }\n",
    "\n",
    "\n",
    "def build(matricula, arq ): #function to find the subjects of the student\n",
    "    Data_base = {}; #dicionario com as informações\n",
    "    Data_base['Matrícula'] = matricula_aluno; \n",
    "    geral = pd.read_excel('planilhas.xlsx', sheet_name=0)#sheet with the general information\n",
    "    for i in range(1, len(arq.sheetnames)): #for each sheet\n",
    "        nome_materia = '';#nome das matérias \n",
    "        nota_materia = 0;# nota das matérias \n",
    "        peso_materia = 0; # peso das matérias\n",
    "        nota_por_avaliacao = []; #lista com as notas das avaliações\n",
    "        dados_materia = {}; #dicionario com as informações da matéria\n",
    "        planilha = pd.read_excel('planilhas.xlsx', sheet_name=i) #read the sheet\n",
    "        for j in range(0, len(planilha)): #for each line in sheet\n",
    "            if planilha.iloc[j, 0] == matricula: #if the student is in the sheet\n",
    "                Data_base['Nome'] = planilha.iloc[j, 1] #add the name to the dictionary\n",
    "                nota = 0;\n",
    "                for k in range(0, len(geral)): #for each line in the general sheet\n",
    "                    if (geral.iloc[k, 0] == arq.sheetnames[i]): #find the name of the subject\n",
    "                        nome_materia = geral.iloc[k]['Matéria']; #add the name of the subject to the list\n",
    "                        dados_materia['Período'] = geral.iloc[k]['Período']; #add the period to the dictionary\n",
    "                        dados_materia['Peso'] = geral.iloc[k]['Peso'] #add the weight of the subject to the list\n",
    "                        break; #break for k\n",
    "                soma_pesos = 0; #sum of the weights\n",
    "                for k in range(2, len(planilha.columns)): #for each column in the sheet\n",
    "                    if(k%2 == 0):\n",
    "                        soma_pesos += planilha.iloc[j, k+1]; #add the weight to the sum\n",
    "                        nota_por_avaliacao.append((planilha.iloc[j, k], planilha.iloc[j, k+1])) #add the grade and the weight of the grade to the list\n",
    "                        nota += planilha.iloc[j, k]*planilha.iloc[j, k+1] #add the grade to the total grade\n",
    "                nota = nota/soma_pesos; #calculate the final grade\n",
    "                dados_materia['Nota'] = nota; #add the final grade to the dictionary\n",
    "                for k in range(0, len(nota_por_avaliacao)):\n",
    "                    dados_materia['Avaliação'+str(k+1)] = nota_por_avaliacao[k];\n",
    "                break; #break for j\n",
    "        Data_base[nome_materia] = dados_materia; #add the dictionary to the dictionary\n",
    "    return Data_base; #return the dictionary\n",
    "Data_base = build(matricula_aluno, arq);"
   ]
  },
  {
   "cell_type": "code",
   "execution_count": 82,
   "metadata": {},
   "outputs": [],
   "source": [
    "\n",
    "#Estrutura do CR: { //Dicionário\n",
    "# 'Acumulado': 7.0\n",
    "# 'Período2022.2': 7.0\n",
    "# 'Período2022.1': 7.0\n",
    "# 'Período2021.2': 7.0\n",
    "# }\n",
    "def calculateCR(Data_base): #function to calculate the CR\n",
    "    soma_pesos = 0; #sum of the weights\n",
    "    soma_notas = 0; #sum of the grades\n",
    "    CR = {}\n",
    "    periodos_cursados = [];\n",
    "    for i in Data_base: #for each subject\n",
    "        if(i != 'Nome' and i != 'Matrícula'): #if the subject is not the name or the registration number\n",
    "            soma_pesos += Data_base[i]['Peso']; #add the weight to the sum\n",
    "            soma_notas += Data_base[i]['Peso']*Data_base[i]['Nota']; #add the grade to the sum\n",
    "            if Data_base[i]['Período'] not in periodos_cursados:\n",
    "                periodos_cursados.append(Data_base[i]['Período']);\n",
    "    CR['Acumulado'] = soma_notas/soma_pesos; #calculate the CR\n",
    "    for i in periodos_cursados: #for each subject\n",
    "        soma_pesos = 0; #sum of the weights\n",
    "        soma_notas = 0; #sum of the grades\n",
    "        for j in Data_base: #for each subject\n",
    "            if(j!= 'Nome' and j != 'Matrícula' and Data_base[j]['Período'] == i):\n",
    "                soma_pesos += Data_base[j]['Peso'];\n",
    "                soma_notas += Data_base[j]['Peso']*Data_base[j]['Nota'];\n",
    "        CR['Período'+str(i)] = soma_notas/soma_pesos;\n",
    "    return CR; #return the CR\n",
    "CR = calculateCR(Data_base);"
   ]
  },
  {
   "cell_type": "code",
   "execution_count": 83,
   "metadata": {},
   "outputs": [],
   "source": [
    "periodos = [];\n",
    "    #periodo: [2021, 2022, 2023, 2024]\n",
    "for i in Date_base:\n",
    "        if(i != 'Nome' and i != 'Matrícula'):\n",
    "            if Date_base[i]['Período'] not in periodos:\n",
    "                periodos.append(Date_base[i]['Período']);\n",
    "    \n",
    "    #separa as matérias por período\n",
    "materias = [];\n",
    "    #materias = [[AL,MG], [KL]]\n",
    "for i in periodos: #para cada período\n",
    "        materias.append([]);#adiciono uma lista vazia no período\n",
    "for i in Date_base: #para cada matéria\n",
    "        if(i != 'Nome' and i != 'Matrícula'):\n",
    "            for j in range(0, len(periodos)):\n",
    "                if(Date_base[i]['Período'] == periodos[j]):\n",
    "                    materias[j].append(i);\n",
    "    #separa as notas por período\n",
    "notas = [];\n",
    "    #notas = [[9,8], [7]]\n",
    "for i in periodos: #para cada período\n",
    "        notas.append([]);#adiciono uma lista vazia no período\n",
    "for i in Date_base: #para cada matéria\n",
    "        if(i != 'Nome' and i != 'Matrícula'):\n",
    "            for j in range(0, len(periodos)):\n",
    "                if(Date_base[i]['Período'] == periodos[j]):\n",
    "                    notas[j].append(Date_base[i]['Nota']);\n",
    "    #separa os pesos por período\n",
    "pesos = []; #acumulativo\n",
    "    #pesos = [[2,3], [1]]\n",
    "for i in periodos: #para cada período\n",
    "        pesos.append([]);#adiciono uma lista vazia no período\n",
    "for i in Date_base: #para cada matéria\n",
    "        if(i != 'Nome' and i != 'Matrícula'):\n",
    "            for j in range(0, len(periodos)):\n",
    "                if(Date_base[i]['Período'] == periodos[j]):\n",
    "                    pesos[j].append(Date_base[i]['Peso']);\n",
    "for i in range(0,len(pesos)):\n",
    "        soma_pesos_materias = 0; #zero pra cada período\n",
    "        #include 0 in the first position\n",
    "        for j in range(0,len(pesos[i])):\n",
    "            soma_pesos_materias += pesos[i][j]+0.5;\n",
    "            pesos[i][j] = soma_pesos_materias;\n",
    "for i in range(0,len(pesos)):\n",
    "        pesos[i].insert(0,0);\n",
    "    #separa as avaliações por período\n",
    "\n",
    "    #avaliacoes = [[9,8], [7]]\n",
    "    # for i in periodos: #para cada período\n",
    "    #     nota_avaliacoes.append([]);#adiciono uma lista vazia no período\n",
    "    # for i in Date_base: #para cada matéria\n",
    "    #     if(i != 'Nome' and i != 'Matrícula'):\n",
    "    #         for j in range(0, len(periodos)):\n",
    "    #             if(Date_base[i]['Período'] == periodos[j]):\n",
    "    #                 nota_avaliacoes[j].append(Date_base[i]['Avaliação1'][0]);\n",
    "nota_avaliacoes = []; \n",
    "peso_avaliacoes = []; #cumulativo\n",
    "    #avaliacoes = [[0,4], [0]]\n",
    "for i in periodos: #para cada período\n",
    "        peso_avaliacoes.append([]);#adiciono uma lista vazia no período\n",
    "        nota_avaliacoes.append([]);\n",
    "for i in range(0,len(materias)):\n",
    "        for j in materias[i]:\n",
    "                peso_avaliacoes[i].append([]);\n",
    "                nota_avaliacoes[i].append([]);\n",
    "for i in Date_base: #para cada matéria in Data_base\n",
    "        if(i != 'Nome' and i != 'Matrícula'):\n",
    "            sumpeso = 0 \n",
    "            for j in Data_base[i]: #para cada avaliação\n",
    "                if(j != 'Período' and j != 'Peso' and j != 'Nota'):\n",
    "                    #tenho a avaliação, falta encontrar onde incluir\n",
    "                    for k in range(0, len(materias)):\n",
    "                        for l in range(0, len(materias[k])):\n",
    "                            if(materias[k][l] == i):\n",
    "                                sumpeso += Date_base[i][j][1];\n",
    "                                peso_avaliacoes[k][l].append(sumpeso);\n",
    "                                nota_avaliacoes[k][l].append(Date_base[i][j][0]);\n",
    "for i in range(0, len(peso_avaliacoes)):# para cada período\n",
    "        for j in range(0, len(peso_avaliacoes[i])): #para cada matéria\n",
    "            soma_pesos = 0;\n",
    "            for k in range(0, len(peso_avaliacoes[i][j])):\n",
    "                soma_pesos += peso_avaliacoes[i][j][k]\n",
    "            for k in range(0, len(peso_avaliacoes[i][j])):\n",
    "                peso_avaliacoes[i][j][k] = peso_avaliacoes[i][j][k]*notas[i][j]/soma_pesos;\n",
    "                #definindo quantidade de linhas a plotar\n",
    "for i in range(0,len(peso_avaliacoes)):#pra cada periodo\n",
    "        for j in range(0,len(peso_avaliacoes[i])):#pra cada materia\n",
    "            somatorio = 0;\n",
    "            for k in range(0,len(peso_avaliacoes[i][j])):#pra cada avaliação\n",
    "                somatorio += peso_avaliacoes[i][j][k];\n",
    "                peso_avaliacoes[i][j][k] = somatorio;"
   ]
  },
  {
   "cell_type": "code",
   "execution_count": 84,
   "metadata": {},
   "outputs": [
    {
     "data": {
      "application/vnd.plotly.v1+json": {
       "config": {
        "plotlyServerURL": "https://plot.ly"
       },
       "data": [],
       "layout": {
        "annotations": [
         {
          "font": {
           "size": 16
          },
          "showarrow": false,
          "text": "20232",
          "x": 0.225,
          "xanchor": "center",
          "xref": "paper",
          "y": 1,
          "yanchor": "bottom",
          "yref": "paper"
         },
         {
          "font": {
           "size": 16
          },
          "showarrow": false,
          "text": "20211",
          "x": 0.775,
          "xanchor": "center",
          "xref": "paper",
          "y": 1,
          "yanchor": "bottom",
          "yref": "paper"
         },
         {
          "font": {
           "size": 16
          },
          "showarrow": false,
          "text": "20222",
          "x": 0.225,
          "xanchor": "center",
          "xref": "paper",
          "y": 0.375,
          "yanchor": "bottom",
          "yref": "paper"
         },
         {
          "font": {
           "size": 16
          },
          "showarrow": false,
          "text": "20212",
          "x": 0.775,
          "xanchor": "center",
          "xref": "paper",
          "y": 0.375,
          "yanchor": "bottom",
          "yref": "paper"
         }
        ],
        "template": {
         "data": {
          "bar": [
           {
            "error_x": {
             "color": "#2a3f5f"
            },
            "error_y": {
             "color": "#2a3f5f"
            },
            "marker": {
             "line": {
              "color": "#E5ECF6",
              "width": 0.5
             },
             "pattern": {
              "fillmode": "overlay",
              "size": 10,
              "solidity": 0.2
             }
            },
            "type": "bar"
           }
          ],
          "barpolar": [
           {
            "marker": {
             "line": {
              "color": "#E5ECF6",
              "width": 0.5
             },
             "pattern": {
              "fillmode": "overlay",
              "size": 10,
              "solidity": 0.2
             }
            },
            "type": "barpolar"
           }
          ],
          "carpet": [
           {
            "aaxis": {
             "endlinecolor": "#2a3f5f",
             "gridcolor": "white",
             "linecolor": "white",
             "minorgridcolor": "white",
             "startlinecolor": "#2a3f5f"
            },
            "baxis": {
             "endlinecolor": "#2a3f5f",
             "gridcolor": "white",
             "linecolor": "white",
             "minorgridcolor": "white",
             "startlinecolor": "#2a3f5f"
            },
            "type": "carpet"
           }
          ],
          "choropleth": [
           {
            "colorbar": {
             "outlinewidth": 0,
             "ticks": ""
            },
            "type": "choropleth"
           }
          ],
          "contour": [
           {
            "colorbar": {
             "outlinewidth": 0,
             "ticks": ""
            },
            "colorscale": [
             [
              0,
              "#0d0887"
             ],
             [
              0.1111111111111111,
              "#46039f"
             ],
             [
              0.2222222222222222,
              "#7201a8"
             ],
             [
              0.3333333333333333,
              "#9c179e"
             ],
             [
              0.4444444444444444,
              "#bd3786"
             ],
             [
              0.5555555555555556,
              "#d8576b"
             ],
             [
              0.6666666666666666,
              "#ed7953"
             ],
             [
              0.7777777777777778,
              "#fb9f3a"
             ],
             [
              0.8888888888888888,
              "#fdca26"
             ],
             [
              1,
              "#f0f921"
             ]
            ],
            "type": "contour"
           }
          ],
          "contourcarpet": [
           {
            "colorbar": {
             "outlinewidth": 0,
             "ticks": ""
            },
            "type": "contourcarpet"
           }
          ],
          "heatmap": [
           {
            "colorbar": {
             "outlinewidth": 0,
             "ticks": ""
            },
            "colorscale": [
             [
              0,
              "#0d0887"
             ],
             [
              0.1111111111111111,
              "#46039f"
             ],
             [
              0.2222222222222222,
              "#7201a8"
             ],
             [
              0.3333333333333333,
              "#9c179e"
             ],
             [
              0.4444444444444444,
              "#bd3786"
             ],
             [
              0.5555555555555556,
              "#d8576b"
             ],
             [
              0.6666666666666666,
              "#ed7953"
             ],
             [
              0.7777777777777778,
              "#fb9f3a"
             ],
             [
              0.8888888888888888,
              "#fdca26"
             ],
             [
              1,
              "#f0f921"
             ]
            ],
            "type": "heatmap"
           }
          ],
          "heatmapgl": [
           {
            "colorbar": {
             "outlinewidth": 0,
             "ticks": ""
            },
            "colorscale": [
             [
              0,
              "#0d0887"
             ],
             [
              0.1111111111111111,
              "#46039f"
             ],
             [
              0.2222222222222222,
              "#7201a8"
             ],
             [
              0.3333333333333333,
              "#9c179e"
             ],
             [
              0.4444444444444444,
              "#bd3786"
             ],
             [
              0.5555555555555556,
              "#d8576b"
             ],
             [
              0.6666666666666666,
              "#ed7953"
             ],
             [
              0.7777777777777778,
              "#fb9f3a"
             ],
             [
              0.8888888888888888,
              "#fdca26"
             ],
             [
              1,
              "#f0f921"
             ]
            ],
            "type": "heatmapgl"
           }
          ],
          "histogram": [
           {
            "marker": {
             "pattern": {
              "fillmode": "overlay",
              "size": 10,
              "solidity": 0.2
             }
            },
            "type": "histogram"
           }
          ],
          "histogram2d": [
           {
            "colorbar": {
             "outlinewidth": 0,
             "ticks": ""
            },
            "colorscale": [
             [
              0,
              "#0d0887"
             ],
             [
              0.1111111111111111,
              "#46039f"
             ],
             [
              0.2222222222222222,
              "#7201a8"
             ],
             [
              0.3333333333333333,
              "#9c179e"
             ],
             [
              0.4444444444444444,
              "#bd3786"
             ],
             [
              0.5555555555555556,
              "#d8576b"
             ],
             [
              0.6666666666666666,
              "#ed7953"
             ],
             [
              0.7777777777777778,
              "#fb9f3a"
             ],
             [
              0.8888888888888888,
              "#fdca26"
             ],
             [
              1,
              "#f0f921"
             ]
            ],
            "type": "histogram2d"
           }
          ],
          "histogram2dcontour": [
           {
            "colorbar": {
             "outlinewidth": 0,
             "ticks": ""
            },
            "colorscale": [
             [
              0,
              "#0d0887"
             ],
             [
              0.1111111111111111,
              "#46039f"
             ],
             [
              0.2222222222222222,
              "#7201a8"
             ],
             [
              0.3333333333333333,
              "#9c179e"
             ],
             [
              0.4444444444444444,
              "#bd3786"
             ],
             [
              0.5555555555555556,
              "#d8576b"
             ],
             [
              0.6666666666666666,
              "#ed7953"
             ],
             [
              0.7777777777777778,
              "#fb9f3a"
             ],
             [
              0.8888888888888888,
              "#fdca26"
             ],
             [
              1,
              "#f0f921"
             ]
            ],
            "type": "histogram2dcontour"
           }
          ],
          "mesh3d": [
           {
            "colorbar": {
             "outlinewidth": 0,
             "ticks": ""
            },
            "type": "mesh3d"
           }
          ],
          "parcoords": [
           {
            "line": {
             "colorbar": {
              "outlinewidth": 0,
              "ticks": ""
             }
            },
            "type": "parcoords"
           }
          ],
          "pie": [
           {
            "automargin": true,
            "type": "pie"
           }
          ],
          "scatter": [
           {
            "fillpattern": {
             "fillmode": "overlay",
             "size": 10,
             "solidity": 0.2
            },
            "type": "scatter"
           }
          ],
          "scatter3d": [
           {
            "line": {
             "colorbar": {
              "outlinewidth": 0,
              "ticks": ""
             }
            },
            "marker": {
             "colorbar": {
              "outlinewidth": 0,
              "ticks": ""
             }
            },
            "type": "scatter3d"
           }
          ],
          "scattercarpet": [
           {
            "marker": {
             "colorbar": {
              "outlinewidth": 0,
              "ticks": ""
             }
            },
            "type": "scattercarpet"
           }
          ],
          "scattergeo": [
           {
            "marker": {
             "colorbar": {
              "outlinewidth": 0,
              "ticks": ""
             }
            },
            "type": "scattergeo"
           }
          ],
          "scattergl": [
           {
            "marker": {
             "colorbar": {
              "outlinewidth": 0,
              "ticks": ""
             }
            },
            "type": "scattergl"
           }
          ],
          "scattermapbox": [
           {
            "marker": {
             "colorbar": {
              "outlinewidth": 0,
              "ticks": ""
             }
            },
            "type": "scattermapbox"
           }
          ],
          "scatterpolar": [
           {
            "marker": {
             "colorbar": {
              "outlinewidth": 0,
              "ticks": ""
             }
            },
            "type": "scatterpolar"
           }
          ],
          "scatterpolargl": [
           {
            "marker": {
             "colorbar": {
              "outlinewidth": 0,
              "ticks": ""
             }
            },
            "type": "scatterpolargl"
           }
          ],
          "scatterternary": [
           {
            "marker": {
             "colorbar": {
              "outlinewidth": 0,
              "ticks": ""
             }
            },
            "type": "scatterternary"
           }
          ],
          "surface": [
           {
            "colorbar": {
             "outlinewidth": 0,
             "ticks": ""
            },
            "colorscale": [
             [
              0,
              "#0d0887"
             ],
             [
              0.1111111111111111,
              "#46039f"
             ],
             [
              0.2222222222222222,
              "#7201a8"
             ],
             [
              0.3333333333333333,
              "#9c179e"
             ],
             [
              0.4444444444444444,
              "#bd3786"
             ],
             [
              0.5555555555555556,
              "#d8576b"
             ],
             [
              0.6666666666666666,
              "#ed7953"
             ],
             [
              0.7777777777777778,
              "#fb9f3a"
             ],
             [
              0.8888888888888888,
              "#fdca26"
             ],
             [
              1,
              "#f0f921"
             ]
            ],
            "type": "surface"
           }
          ],
          "table": [
           {
            "cells": {
             "fill": {
              "color": "#EBF0F8"
             },
             "line": {
              "color": "white"
             }
            },
            "header": {
             "fill": {
              "color": "#C8D4E3"
             },
             "line": {
              "color": "white"
             }
            },
            "type": "table"
           }
          ]
         },
         "layout": {
          "annotationdefaults": {
           "arrowcolor": "#2a3f5f",
           "arrowhead": 0,
           "arrowwidth": 1
          },
          "autotypenumbers": "strict",
          "coloraxis": {
           "colorbar": {
            "outlinewidth": 0,
            "ticks": ""
           }
          },
          "colorscale": {
           "diverging": [
            [
             0,
             "#8e0152"
            ],
            [
             0.1,
             "#c51b7d"
            ],
            [
             0.2,
             "#de77ae"
            ],
            [
             0.3,
             "#f1b6da"
            ],
            [
             0.4,
             "#fde0ef"
            ],
            [
             0.5,
             "#f7f7f7"
            ],
            [
             0.6,
             "#e6f5d0"
            ],
            [
             0.7,
             "#b8e186"
            ],
            [
             0.8,
             "#7fbc41"
            ],
            [
             0.9,
             "#4d9221"
            ],
            [
             1,
             "#276419"
            ]
           ],
           "sequential": [
            [
             0,
             "#0d0887"
            ],
            [
             0.1111111111111111,
             "#46039f"
            ],
            [
             0.2222222222222222,
             "#7201a8"
            ],
            [
             0.3333333333333333,
             "#9c179e"
            ],
            [
             0.4444444444444444,
             "#bd3786"
            ],
            [
             0.5555555555555556,
             "#d8576b"
            ],
            [
             0.6666666666666666,
             "#ed7953"
            ],
            [
             0.7777777777777778,
             "#fb9f3a"
            ],
            [
             0.8888888888888888,
             "#fdca26"
            ],
            [
             1,
             "#f0f921"
            ]
           ],
           "sequentialminus": [
            [
             0,
             "#0d0887"
            ],
            [
             0.1111111111111111,
             "#46039f"
            ],
            [
             0.2222222222222222,
             "#7201a8"
            ],
            [
             0.3333333333333333,
             "#9c179e"
            ],
            [
             0.4444444444444444,
             "#bd3786"
            ],
            [
             0.5555555555555556,
             "#d8576b"
            ],
            [
             0.6666666666666666,
             "#ed7953"
            ],
            [
             0.7777777777777778,
             "#fb9f3a"
            ],
            [
             0.8888888888888888,
             "#fdca26"
            ],
            [
             1,
             "#f0f921"
            ]
           ]
          },
          "colorway": [
           "#636efa",
           "#EF553B",
           "#00cc96",
           "#ab63fa",
           "#FFA15A",
           "#19d3f3",
           "#FF6692",
           "#B6E880",
           "#FF97FF",
           "#FECB52"
          ],
          "font": {
           "color": "#2a3f5f"
          },
          "geo": {
           "bgcolor": "white",
           "lakecolor": "white",
           "landcolor": "#E5ECF6",
           "showlakes": true,
           "showland": true,
           "subunitcolor": "white"
          },
          "hoverlabel": {
           "align": "left"
          },
          "hovermode": "closest",
          "mapbox": {
           "style": "light"
          },
          "paper_bgcolor": "white",
          "plot_bgcolor": "#E5ECF6",
          "polar": {
           "angularaxis": {
            "gridcolor": "white",
            "linecolor": "white",
            "ticks": ""
           },
           "bgcolor": "#E5ECF6",
           "radialaxis": {
            "gridcolor": "white",
            "linecolor": "white",
            "ticks": ""
           }
          },
          "scene": {
           "xaxis": {
            "backgroundcolor": "#E5ECF6",
            "gridcolor": "white",
            "gridwidth": 2,
            "linecolor": "white",
            "showbackground": true,
            "ticks": "",
            "zerolinecolor": "white"
           },
           "yaxis": {
            "backgroundcolor": "#E5ECF6",
            "gridcolor": "white",
            "gridwidth": 2,
            "linecolor": "white",
            "showbackground": true,
            "ticks": "",
            "zerolinecolor": "white"
           },
           "zaxis": {
            "backgroundcolor": "#E5ECF6",
            "gridcolor": "white",
            "gridwidth": 2,
            "linecolor": "white",
            "showbackground": true,
            "ticks": "",
            "zerolinecolor": "white"
           }
          },
          "shapedefaults": {
           "line": {
            "color": "#2a3f5f"
           }
          },
          "ternary": {
           "aaxis": {
            "gridcolor": "white",
            "linecolor": "white",
            "ticks": ""
           },
           "baxis": {
            "gridcolor": "white",
            "linecolor": "white",
            "ticks": ""
           },
           "bgcolor": "#E5ECF6",
           "caxis": {
            "gridcolor": "white",
            "linecolor": "white",
            "ticks": ""
           }
          },
          "title": {
           "x": 0.05
          },
          "xaxis": {
           "automargin": true,
           "gridcolor": "white",
           "linecolor": "white",
           "ticks": "",
           "title": {
            "standoff": 15
           },
           "zerolinecolor": "white",
           "zerolinewidth": 2
          },
          "yaxis": {
           "automargin": true,
           "gridcolor": "white",
           "linecolor": "white",
           "ticks": "",
           "title": {
            "standoff": 15
           },
           "zerolinecolor": "white",
           "zerolinewidth": 2
          }
         }
        },
        "xaxis": {
         "anchor": "y",
         "domain": [
          0,
          0.45
         ]
        },
        "xaxis2": {
         "anchor": "y2",
         "domain": [
          0.55,
          1
         ]
        },
        "xaxis3": {
         "anchor": "y3",
         "domain": [
          0,
          0.45
         ]
        },
        "xaxis4": {
         "anchor": "y4",
         "domain": [
          0.55,
          1
         ]
        },
        "yaxis": {
         "anchor": "x",
         "domain": [
          0.625,
          1
         ],
         "range": [
          0,
          10
         ]
        },
        "yaxis2": {
         "anchor": "x2",
         "domain": [
          0.625,
          1
         ],
         "range": [
          0,
          10
         ]
        },
        "yaxis3": {
         "anchor": "x3",
         "domain": [
          0,
          0.375
         ],
         "range": [
          0,
          10
         ]
        },
        "yaxis4": {
         "anchor": "x4",
         "domain": [
          0,
          0.375
         ],
         "range": [
          0,
          10
         ]
        }
       }
      },
      "text/html": [
       "<div>                            <div id=\"abe01a09-729f-433c-b8ce-9f00e6b8085c\" class=\"plotly-graph-div\" style=\"height:525px; width:100%;\"></div>            <script type=\"text/javascript\">                require([\"plotly\"], function(Plotly) {                    window.PLOTLYENV=window.PLOTLYENV || {};                                    if (document.getElementById(\"abe01a09-729f-433c-b8ce-9f00e6b8085c\")) {                    Plotly.newPlot(                        \"abe01a09-729f-433c-b8ce-9f00e6b8085c\",                        [],                        {\"template\":{\"data\":{\"histogram2dcontour\":[{\"type\":\"histogram2dcontour\",\"colorbar\":{\"outlinewidth\":0,\"ticks\":\"\"},\"colorscale\":[[0.0,\"#0d0887\"],[0.1111111111111111,\"#46039f\"],[0.2222222222222222,\"#7201a8\"],[0.3333333333333333,\"#9c179e\"],[0.4444444444444444,\"#bd3786\"],[0.5555555555555556,\"#d8576b\"],[0.6666666666666666,\"#ed7953\"],[0.7777777777777778,\"#fb9f3a\"],[0.8888888888888888,\"#fdca26\"],[1.0,\"#f0f921\"]]}],\"choropleth\":[{\"type\":\"choropleth\",\"colorbar\":{\"outlinewidth\":0,\"ticks\":\"\"}}],\"histogram2d\":[{\"type\":\"histogram2d\",\"colorbar\":{\"outlinewidth\":0,\"ticks\":\"\"},\"colorscale\":[[0.0,\"#0d0887\"],[0.1111111111111111,\"#46039f\"],[0.2222222222222222,\"#7201a8\"],[0.3333333333333333,\"#9c179e\"],[0.4444444444444444,\"#bd3786\"],[0.5555555555555556,\"#d8576b\"],[0.6666666666666666,\"#ed7953\"],[0.7777777777777778,\"#fb9f3a\"],[0.8888888888888888,\"#fdca26\"],[1.0,\"#f0f921\"]]}],\"heatmap\":[{\"type\":\"heatmap\",\"colorbar\":{\"outlinewidth\":0,\"ticks\":\"\"},\"colorscale\":[[0.0,\"#0d0887\"],[0.1111111111111111,\"#46039f\"],[0.2222222222222222,\"#7201a8\"],[0.3333333333333333,\"#9c179e\"],[0.4444444444444444,\"#bd3786\"],[0.5555555555555556,\"#d8576b\"],[0.6666666666666666,\"#ed7953\"],[0.7777777777777778,\"#fb9f3a\"],[0.8888888888888888,\"#fdca26\"],[1.0,\"#f0f921\"]]}],\"heatmapgl\":[{\"type\":\"heatmapgl\",\"colorbar\":{\"outlinewidth\":0,\"ticks\":\"\"},\"colorscale\":[[0.0,\"#0d0887\"],[0.1111111111111111,\"#46039f\"],[0.2222222222222222,\"#7201a8\"],[0.3333333333333333,\"#9c179e\"],[0.4444444444444444,\"#bd3786\"],[0.5555555555555556,\"#d8576b\"],[0.6666666666666666,\"#ed7953\"],[0.7777777777777778,\"#fb9f3a\"],[0.8888888888888888,\"#fdca26\"],[1.0,\"#f0f921\"]]}],\"contourcarpet\":[{\"type\":\"contourcarpet\",\"colorbar\":{\"outlinewidth\":0,\"ticks\":\"\"}}],\"contour\":[{\"type\":\"contour\",\"colorbar\":{\"outlinewidth\":0,\"ticks\":\"\"},\"colorscale\":[[0.0,\"#0d0887\"],[0.1111111111111111,\"#46039f\"],[0.2222222222222222,\"#7201a8\"],[0.3333333333333333,\"#9c179e\"],[0.4444444444444444,\"#bd3786\"],[0.5555555555555556,\"#d8576b\"],[0.6666666666666666,\"#ed7953\"],[0.7777777777777778,\"#fb9f3a\"],[0.8888888888888888,\"#fdca26\"],[1.0,\"#f0f921\"]]}],\"surface\":[{\"type\":\"surface\",\"colorbar\":{\"outlinewidth\":0,\"ticks\":\"\"},\"colorscale\":[[0.0,\"#0d0887\"],[0.1111111111111111,\"#46039f\"],[0.2222222222222222,\"#7201a8\"],[0.3333333333333333,\"#9c179e\"],[0.4444444444444444,\"#bd3786\"],[0.5555555555555556,\"#d8576b\"],[0.6666666666666666,\"#ed7953\"],[0.7777777777777778,\"#fb9f3a\"],[0.8888888888888888,\"#fdca26\"],[1.0,\"#f0f921\"]]}],\"mesh3d\":[{\"type\":\"mesh3d\",\"colorbar\":{\"outlinewidth\":0,\"ticks\":\"\"}}],\"scatter\":[{\"fillpattern\":{\"fillmode\":\"overlay\",\"size\":10,\"solidity\":0.2},\"type\":\"scatter\"}],\"parcoords\":[{\"type\":\"parcoords\",\"line\":{\"colorbar\":{\"outlinewidth\":0,\"ticks\":\"\"}}}],\"scatterpolargl\":[{\"type\":\"scatterpolargl\",\"marker\":{\"colorbar\":{\"outlinewidth\":0,\"ticks\":\"\"}}}],\"bar\":[{\"error_x\":{\"color\":\"#2a3f5f\"},\"error_y\":{\"color\":\"#2a3f5f\"},\"marker\":{\"line\":{\"color\":\"#E5ECF6\",\"width\":0.5},\"pattern\":{\"fillmode\":\"overlay\",\"size\":10,\"solidity\":0.2}},\"type\":\"bar\"}],\"scattergeo\":[{\"type\":\"scattergeo\",\"marker\":{\"colorbar\":{\"outlinewidth\":0,\"ticks\":\"\"}}}],\"scatterpolar\":[{\"type\":\"scatterpolar\",\"marker\":{\"colorbar\":{\"outlinewidth\":0,\"ticks\":\"\"}}}],\"histogram\":[{\"marker\":{\"pattern\":{\"fillmode\":\"overlay\",\"size\":10,\"solidity\":0.2}},\"type\":\"histogram\"}],\"scattergl\":[{\"type\":\"scattergl\",\"marker\":{\"colorbar\":{\"outlinewidth\":0,\"ticks\":\"\"}}}],\"scatter3d\":[{\"type\":\"scatter3d\",\"line\":{\"colorbar\":{\"outlinewidth\":0,\"ticks\":\"\"}},\"marker\":{\"colorbar\":{\"outlinewidth\":0,\"ticks\":\"\"}}}],\"scattermapbox\":[{\"type\":\"scattermapbox\",\"marker\":{\"colorbar\":{\"outlinewidth\":0,\"ticks\":\"\"}}}],\"scatterternary\":[{\"type\":\"scatterternary\",\"marker\":{\"colorbar\":{\"outlinewidth\":0,\"ticks\":\"\"}}}],\"scattercarpet\":[{\"type\":\"scattercarpet\",\"marker\":{\"colorbar\":{\"outlinewidth\":0,\"ticks\":\"\"}}}],\"carpet\":[{\"aaxis\":{\"endlinecolor\":\"#2a3f5f\",\"gridcolor\":\"white\",\"linecolor\":\"white\",\"minorgridcolor\":\"white\",\"startlinecolor\":\"#2a3f5f\"},\"baxis\":{\"endlinecolor\":\"#2a3f5f\",\"gridcolor\":\"white\",\"linecolor\":\"white\",\"minorgridcolor\":\"white\",\"startlinecolor\":\"#2a3f5f\"},\"type\":\"carpet\"}],\"table\":[{\"cells\":{\"fill\":{\"color\":\"#EBF0F8\"},\"line\":{\"color\":\"white\"}},\"header\":{\"fill\":{\"color\":\"#C8D4E3\"},\"line\":{\"color\":\"white\"}},\"type\":\"table\"}],\"barpolar\":[{\"marker\":{\"line\":{\"color\":\"#E5ECF6\",\"width\":0.5},\"pattern\":{\"fillmode\":\"overlay\",\"size\":10,\"solidity\":0.2}},\"type\":\"barpolar\"}],\"pie\":[{\"automargin\":true,\"type\":\"pie\"}]},\"layout\":{\"autotypenumbers\":\"strict\",\"colorway\":[\"#636efa\",\"#EF553B\",\"#00cc96\",\"#ab63fa\",\"#FFA15A\",\"#19d3f3\",\"#FF6692\",\"#B6E880\",\"#FF97FF\",\"#FECB52\"],\"font\":{\"color\":\"#2a3f5f\"},\"hovermode\":\"closest\",\"hoverlabel\":{\"align\":\"left\"},\"paper_bgcolor\":\"white\",\"plot_bgcolor\":\"#E5ECF6\",\"polar\":{\"bgcolor\":\"#E5ECF6\",\"angularaxis\":{\"gridcolor\":\"white\",\"linecolor\":\"white\",\"ticks\":\"\"},\"radialaxis\":{\"gridcolor\":\"white\",\"linecolor\":\"white\",\"ticks\":\"\"}},\"ternary\":{\"bgcolor\":\"#E5ECF6\",\"aaxis\":{\"gridcolor\":\"white\",\"linecolor\":\"white\",\"ticks\":\"\"},\"baxis\":{\"gridcolor\":\"white\",\"linecolor\":\"white\",\"ticks\":\"\"},\"caxis\":{\"gridcolor\":\"white\",\"linecolor\":\"white\",\"ticks\":\"\"}},\"coloraxis\":{\"colorbar\":{\"outlinewidth\":0,\"ticks\":\"\"}},\"colorscale\":{\"sequential\":[[0.0,\"#0d0887\"],[0.1111111111111111,\"#46039f\"],[0.2222222222222222,\"#7201a8\"],[0.3333333333333333,\"#9c179e\"],[0.4444444444444444,\"#bd3786\"],[0.5555555555555556,\"#d8576b\"],[0.6666666666666666,\"#ed7953\"],[0.7777777777777778,\"#fb9f3a\"],[0.8888888888888888,\"#fdca26\"],[1.0,\"#f0f921\"]],\"sequentialminus\":[[0.0,\"#0d0887\"],[0.1111111111111111,\"#46039f\"],[0.2222222222222222,\"#7201a8\"],[0.3333333333333333,\"#9c179e\"],[0.4444444444444444,\"#bd3786\"],[0.5555555555555556,\"#d8576b\"],[0.6666666666666666,\"#ed7953\"],[0.7777777777777778,\"#fb9f3a\"],[0.8888888888888888,\"#fdca26\"],[1.0,\"#f0f921\"]],\"diverging\":[[0,\"#8e0152\"],[0.1,\"#c51b7d\"],[0.2,\"#de77ae\"],[0.3,\"#f1b6da\"],[0.4,\"#fde0ef\"],[0.5,\"#f7f7f7\"],[0.6,\"#e6f5d0\"],[0.7,\"#b8e186\"],[0.8,\"#7fbc41\"],[0.9,\"#4d9221\"],[1,\"#276419\"]]},\"xaxis\":{\"gridcolor\":\"white\",\"linecolor\":\"white\",\"ticks\":\"\",\"title\":{\"standoff\":15},\"zerolinecolor\":\"white\",\"automargin\":true,\"zerolinewidth\":2},\"yaxis\":{\"gridcolor\":\"white\",\"linecolor\":\"white\",\"ticks\":\"\",\"title\":{\"standoff\":15},\"zerolinecolor\":\"white\",\"automargin\":true,\"zerolinewidth\":2},\"scene\":{\"xaxis\":{\"backgroundcolor\":\"#E5ECF6\",\"gridcolor\":\"white\",\"linecolor\":\"white\",\"showbackground\":true,\"ticks\":\"\",\"zerolinecolor\":\"white\",\"gridwidth\":2},\"yaxis\":{\"backgroundcolor\":\"#E5ECF6\",\"gridcolor\":\"white\",\"linecolor\":\"white\",\"showbackground\":true,\"ticks\":\"\",\"zerolinecolor\":\"white\",\"gridwidth\":2},\"zaxis\":{\"backgroundcolor\":\"#E5ECF6\",\"gridcolor\":\"white\",\"linecolor\":\"white\",\"showbackground\":true,\"ticks\":\"\",\"zerolinecolor\":\"white\",\"gridwidth\":2}},\"shapedefaults\":{\"line\":{\"color\":\"#2a3f5f\"}},\"annotationdefaults\":{\"arrowcolor\":\"#2a3f5f\",\"arrowhead\":0,\"arrowwidth\":1},\"geo\":{\"bgcolor\":\"white\",\"landcolor\":\"#E5ECF6\",\"subunitcolor\":\"white\",\"showland\":true,\"showlakes\":true,\"lakecolor\":\"white\"},\"title\":{\"x\":0.05},\"mapbox\":{\"style\":\"light\"}}},\"xaxis\":{\"anchor\":\"y\",\"domain\":[0.0,0.45]},\"yaxis\":{\"anchor\":\"x\",\"domain\":[0.625,1.0],\"range\":[0,10]},\"xaxis2\":{\"anchor\":\"y2\",\"domain\":[0.55,1.0]},\"yaxis2\":{\"anchor\":\"x2\",\"domain\":[0.625,1.0],\"range\":[0,10]},\"xaxis3\":{\"anchor\":\"y3\",\"domain\":[0.0,0.45]},\"yaxis3\":{\"anchor\":\"x3\",\"domain\":[0.0,0.375],\"range\":[0,10]},\"xaxis4\":{\"anchor\":\"y4\",\"domain\":[0.55,1.0]},\"yaxis4\":{\"anchor\":\"x4\",\"domain\":[0.0,0.375],\"range\":[0,10]},\"annotations\":[{\"font\":{\"size\":16},\"showarrow\":false,\"text\":\"20232\",\"x\":0.225,\"xanchor\":\"center\",\"xref\":\"paper\",\"y\":1.0,\"yanchor\":\"bottom\",\"yref\":\"paper\"},{\"font\":{\"size\":16},\"showarrow\":false,\"text\":\"20211\",\"x\":0.775,\"xanchor\":\"center\",\"xref\":\"paper\",\"y\":1.0,\"yanchor\":\"bottom\",\"yref\":\"paper\"},{\"font\":{\"size\":16},\"showarrow\":false,\"text\":\"20222\",\"x\":0.225,\"xanchor\":\"center\",\"xref\":\"paper\",\"y\":0.375,\"yanchor\":\"bottom\",\"yref\":\"paper\"},{\"font\":{\"size\":16},\"showarrow\":false,\"text\":\"20212\",\"x\":0.775,\"xanchor\":\"center\",\"xref\":\"paper\",\"y\":0.375,\"yanchor\":\"bottom\",\"yref\":\"paper\"}]},                        {\"responsive\": true}                    ).then(function(){\n",
       "                            \n",
       "var gd = document.getElementById('abe01a09-729f-433c-b8ce-9f00e6b8085c');\n",
       "var x = new MutationObserver(function (mutations, observer) {{\n",
       "        var display = window.getComputedStyle(gd).display;\n",
       "        if (!display || display === 'none') {{\n",
       "            console.log([gd, 'removed!']);\n",
       "            Plotly.purge(gd);\n",
       "            observer.disconnect();\n",
       "        }}\n",
       "}});\n",
       "\n",
       "// Listen for the removal of the full notebook cells\n",
       "var notebookContainer = gd.closest('#notebook-container');\n",
       "if (notebookContainer) {{\n",
       "    x.observe(notebookContainer, {childList: true});\n",
       "}}\n",
       "\n",
       "// Listen for the clearing of the current output cell\n",
       "var outputEl = gd.closest('.output');\n",
       "if (outputEl) {{\n",
       "    x.observe(outputEl, {childList: true});\n",
       "}}\n",
       "\n",
       "                        })                };                });            </script>        </div>"
      ]
     },
     "metadata": {},
     "output_type": "display_data"
    }
   ],
   "source": [
    "linhas = 0;\n",
    "linha = 0;\n",
    "coluna = 0;\n",
    "\n",
    "\n",
    "if len(periodos) % 2 == 0:\n",
    "        linhas = len(periodos)/2;\n",
    "else:\n",
    "        linhas = (len(periodos)+1)/2;\n",
    "linhas = int(linhas);\n",
    "    #makeake subplots with plotly\n",
    "for i in range(0, len(periodos)):\n",
    "        periodos[i] = str(periodos[i]);\n",
    "xmax = 0;\n",
    "for i in pesos:\n",
    "        for j in i:\n",
    "            if(j > xmax):\n",
    "                xmax = j;\n",
    "    #PLOTPLOTPLOTPLOTPLOTPLOTPLOTPLOTPLOTPLOT"
   ]
  },
  {
   "cell_type": "code",
   "execution_count": 135,
   "metadata": {},
   "outputs": [
    {
     "name": "stderr",
     "output_type": "stream",
     "text": [
      "C:\\Users\\Daniel\\AppData\\Local\\Temp\\ipykernel_8620\\3649938094.py:30: UserWarning:\n",
      "\n",
      "Pandas doesn't allow columns to be created via a new attribute name - see https://pandas.pydata.org/pandas-docs/stable/indexing.html#attribute-access\n",
      "\n"
     ]
    },
    {
     "name": "stdout",
     "output_type": "stream",
     "text": [
      "    período matéria   avaliação  nota\n",
      "0     20232      PE  Avaliação1     5\n",
      "1     20232      PE  Avaliação2     5\n",
      "2     20232      ML  Avaliação1     5\n",
      "21    20232      AL  Avaliação1     5\n",
      "22    20232      AL  Avaliação2    10\n",
      "23    20232      AL  Avaliação3     7\n",
      "24    20232      AL  Avaliação4     7\n"
     ]
    },
    {
     "name": "stderr",
     "output_type": "stream",
     "text": [
      "C:\\Users\\Daniel\\AppData\\Local\\Temp\\ipykernel_8620\\3649938094.py:30: UserWarning:\n",
      "\n",
      "Pandas doesn't allow columns to be created via a new attribute name - see https://pandas.pydata.org/pandas-docs/stable/indexing.html#attribute-access\n",
      "\n"
     ]
    },
    {
     "name": "stdout",
     "output_type": "stream",
     "text": [
      "    período matéria   avaliação  nota\n",
      "3     20211      GA  Avaliação1     5\n",
      "4     20211      GA  Avaliação2    10\n",
      "5     20211      GA  Avaliação3     7\n",
      "6     20211      CT  Avaliação1     5\n",
      "7     20211      CT  Avaliação2     9\n",
      "8     20211      CT  Avaliação3     6\n",
      "9     20211      IE  Avaliação1     5\n",
      "10    20211      IE  Avaliação2     9\n",
      "11    20211      IE  Avaliação3     6\n",
      "12    20211      IE  Avaliação4     2\n"
     ]
    },
    {
     "name": "stderr",
     "output_type": "stream",
     "text": [
      "C:\\Users\\Daniel\\AppData\\Local\\Temp\\ipykernel_8620\\3649938094.py:30: UserWarning:\n",
      "\n",
      "Pandas doesn't allow columns to be created via a new attribute name - see https://pandas.pydata.org/pandas-docs/stable/indexing.html#attribute-access\n",
      "\n"
     ]
    },
    {
     "name": "stdout",
     "output_type": "stream",
     "text": [
      "    período matéria   avaliação  nota\n",
      "13    20222      MD  Avaliação1     5\n",
      "14    20222      MD  Avaliação2    10\n",
      "15    20222      MD  Avaliação3     7\n",
      "16    20222      MD  Avaliação4     7\n",
      "17    20222      VI  Avaliação1     5\n",
      "18    20222      VI  Avaliação2    10\n",
      "19    20222      VI  Avaliação3    10\n",
      "20    20222      VI  Avaliação4    10\n",
      "25    20222      AR  Avaliação1     5\n",
      "26    20222      AR  Avaliação2     5\n",
      "27    20222      AR  Avaliação3     7\n",
      "28    20222      AR  Avaliação4     7\n"
     ]
    },
    {
     "name": "stderr",
     "output_type": "stream",
     "text": [
      "C:\\Users\\Daniel\\AppData\\Local\\Temp\\ipykernel_8620\\3649938094.py:30: UserWarning:\n",
      "\n",
      "Pandas doesn't allow columns to be created via a new attribute name - see https://pandas.pydata.org/pandas-docs/stable/indexing.html#attribute-access\n",
      "\n"
     ]
    },
    {
     "name": "stdout",
     "output_type": "stream",
     "text": [
      "    período matéria   avaliação  nota\n",
      "29    20212      MB  Avaliação1     5\n",
      "30    20212      MB  Avaliação2     5\n",
      "31    20212      MB  Avaliação3     7\n",
      "32    20212      MB  Avaliação4     7\n"
     ]
    }
   ],
   "source": [
    "#Estrutura da matriz\n",
    "#Período | Qual Matéria | Qual Avaliação | Qual_Nota_proporcional | \n",
    "def plot(): #function to plot the data\n",
    "    tabela = [] \n",
    "    periodos = [];\n",
    "    #periodo: [2021, 2022, 2023, 2024]\n",
    "    for i in Data_base:\n",
    "        if(i != 'Nome' and i != 'Matrícula'):\n",
    "            if Data_base[i]['Período'] not in periodos:\n",
    "                periodos.append(Data_base[i]['Período']);\n",
    "    fig = make_subplots(rows=linhas, cols=2) #subplot_titles=periodos\n",
    "    fig.update_yaxes(range=[0, 10])\n",
    "    fig.update_xaxes(range=[0, xmax])\n",
    "    for i in Data_base:\n",
    "        if(i!= 'Nome' and i != 'Matrícula'):\n",
    "            for j in Data_base[i]:\n",
    "                if(j!= 'Período' and j!= 'Peso' and j!= 'Nota'):\n",
    "                    tabela.append([Data_base[i]['Período'], i, j, Data_base[i][j][0]]); #add the data to the list\n",
    "    tabela = pd.DataFrame(tabela, columns= ['período', 'matéria', 'avaliação', 'nota']); #create the dataframe\n",
    "    linha = 0;\n",
    "    coluna = 0;\n",
    "    for i in range(0, len(periodos)): #pra cada período\n",
    "        if(i%2 == 0):\n",
    "            coluna = 1;\n",
    "            linha +=1;\n",
    "        else:\n",
    "            coluna = 2;\n",
    "        tabela_aux = tabela;\n",
    "        tabela_aux = pd.DataFrame(tabela_aux);\n",
    "        tabela_aux.names = ['período', 'matéria', 'avaliação', 'nota']\n",
    "        #size of lines of the dataframe\n",
    "        tabela_aux = tabela_aux.loc[tabela_aux['período'] == periodos[i]]\n",
    "        print(tabela_aux)\n",
    "        #add px.bar in the figure\n",
    "\n",
    "        fig1 = px.bar( tabela_aux ,  x = 'matéria' ,  y = \"nota\" ,  color = \"avaliação\")\n",
    "        fig1.write_html(f\"test123{i}.html\", auto_open=True)\n",
    "        fig.add_trace(fig1['data'][0], row=linha, col=coluna)\n",
    "    fig.write_html(\"test.html\", auto_open=True)\n",
    "    \n",
    "    # tabela.columns = ['período', 'matéria', 'avaliação', 'nota'] #add the name of each column\n",
    "    # fig  =  px . bar ( tabela ,  x = 'matéria' ,  y = \"nota\" ,  color = \"avaliação\") \n",
    "    # fig.write_html(\"test.html\", auto_open=True)\n",
    "\n",
    "#Estrutura da matriz\n",
    "plot()\n",
    "\n",
    "\n",
    "#criar tabela do zero com cabeçalho\n",
    "#tabela = [['Período', 'Matéria', 'Avaliação', 'Nota']]\n",
    "#tabela = pd.DataFrame(tabela)\n",
    "#tabela = tabela.append([['2021.2', 'Cálculo 1', 'Prova 1', 7.0]])\n",
    "\n"
   ]
  },
  {
   "cell_type": "code",
   "execution_count": null,
   "metadata": {},
   "outputs": [],
   "source": [
    "\n",
    "def plot(Date_base):\n",
    "    #preciso de uma função que plote o gráfico\n",
    "    CR = calculateCR(Date_base);\n",
    "    #encontra quais são os períodos\n",
    "    periodos = [];\n",
    "    #periodo: [2021, 2022, 2023, 2024]\n",
    "    for i in Date_base:\n",
    "        if(i != 'Nome' and i != 'Matrícula'):\n",
    "            if Date_base[i]['Período'] not in periodos:\n",
    "                periodos.append(Date_base[i]['Período']);\n",
    "    \n",
    "    #separa as matérias por período\n",
    "    materias = [];\n",
    "    #materias = [[AL,MG], [KL]]\n",
    "    for i in periodos: #para cada período\n",
    "        materias.append([]);#adiciono uma lista vazia no período\n",
    "    for i in Date_base: #para cada matéria\n",
    "        if(i != 'Nome' and i != 'Matrícula'):\n",
    "            for j in range(0, len(periodos)):\n",
    "                if(Date_base[i]['Período'] == periodos[j]):\n",
    "                    materias[j].append(i);\n",
    "    #separa as notas por período\n",
    "    notas = [];\n",
    "    #notas = [[9,8], [7]]\n",
    "    for i in periodos: #para cada período\n",
    "        notas.append([]);#adiciono uma lista vazia no período\n",
    "    for i in Date_base: #para cada matéria\n",
    "        if(i != 'Nome' and i != 'Matrícula'):\n",
    "            for j in range(0, len(periodos)):\n",
    "                if(Date_base[i]['Período'] == periodos[j]):\n",
    "                    notas[j].append(Date_base[i]['Nota']);\n",
    "    #separa os pesos por período\n",
    "    pesos = []; #acumulativo\n",
    "    #pesos = [[2,3], [1]]\n",
    "    for i in periodos: #para cada período\n",
    "        pesos.append([]);#adiciono uma lista vazia no período\n",
    "    for i in Date_base: #para cada matéria\n",
    "        if(i != 'Nome' and i != 'Matrícula'):\n",
    "            for j in range(0, len(periodos)):\n",
    "                if(Date_base[i]['Período'] == periodos[j]):\n",
    "                    pesos[j].append(Date_base[i]['Peso']);\n",
    "    for i in range(0,len(pesos)):\n",
    "        soma_pesos_materias = 0; #zero pra cada período\n",
    "        #include 0 in the first position\n",
    "        for j in range(0,len(pesos[i])):\n",
    "            soma_pesos_materias += pesos[i][j]+0.5;\n",
    "            pesos[i][j] = soma_pesos_materias;\n",
    "    for i in range(0,len(pesos)):\n",
    "        pesos[i].insert(0,0);\n",
    "    #separa as avaliações por período\n",
    "\n",
    "    #avaliacoes = [[9,8], [7]]\n",
    "    # for i in periodos: #para cada período\n",
    "    #     nota_avaliacoes.append([]);#adiciono uma lista vazia no período\n",
    "    # for i in Date_base: #para cada matéria\n",
    "    #     if(i != 'Nome' and i != 'Matrícula'):\n",
    "    #         for j in range(0, len(periodos)):\n",
    "    #             if(Date_base[i]['Período'] == periodos[j]):\n",
    "    #                 nota_avaliacoes[j].append(Date_base[i]['Avaliação1'][0]);\n",
    "    nota_avaliacoes = []; \n",
    "    peso_avaliacoes = []; #cumulativo\n",
    "    #avaliacoes = [[0,4], [0]]\n",
    "    for i in periodos: #para cada período\n",
    "        peso_avaliacoes.append([]);#adiciono uma lista vazia no período\n",
    "        nota_avaliacoes.append([]);\n",
    "    for i in range(0,len(materias)):\n",
    "        for j in materias[i]:\n",
    "                peso_avaliacoes[i].append([]);\n",
    "                nota_avaliacoes[i].append([]);\n",
    "    for i in Date_base: #para cada matéria in Data_base\n",
    "        if(i != 'Nome' and i != 'Matrícula'):\n",
    "            sumpeso = 0 \n",
    "            for j in Data_base[i]: #para cada avaliação\n",
    "                if(j != 'Período' and j != 'Peso' and j != 'Nota'):\n",
    "                    #tenho a avaliação, falta encontrar onde incluir\n",
    "                    for k in range(0, len(materias)):\n",
    "                        for l in range(0, len(materias[k])):\n",
    "                            if(materias[k][l] == i):\n",
    "                                sumpeso += Date_base[i][j][1];\n",
    "                                peso_avaliacoes[k][l].append(sumpeso);\n",
    "                                nota_avaliacoes[k][l].append(Date_base[i][j][0]);\n",
    "    for i in range(0, len(peso_avaliacoes)):# para cada período\n",
    "        for j in range(0, len(peso_avaliacoes[i])): #para cada matéria\n",
    "            soma_pesos = 0;\n",
    "            for k in range(0, len(peso_avaliacoes[i][j])):\n",
    "                soma_pesos += peso_avaliacoes[i][j][k]\n",
    "            for k in range(0, len(peso_avaliacoes[i][j])):\n",
    "                peso_avaliacoes[i][j][k] = peso_avaliacoes[i][j][k]*notas[i][j]/soma_pesos;\n",
    "                #definindo quantidade de linhas a plotar\n",
    "    for i in range(0,len(peso_avaliacoes)):#pra cada periodo\n",
    "        for j in range(0,len(peso_avaliacoes[i])):#pra cada materia\n",
    "            somatorio = 0;\n",
    "            for k in range(0,len(peso_avaliacoes[i][j])):#pra cada avaliação\n",
    "                somatorio += peso_avaliacoes[i][j][k];\n",
    "                peso_avaliacoes[i][j][k] = somatorio;\n",
    "    linhas = 0;\n",
    "    linha = 0;\n",
    "    coluna = 0;\n",
    "    if len(periodos) % 2 == 0:\n",
    "        linhas = len(periodos)/2;\n",
    "    else:\n",
    "        linhas = (len(periodos)+1)/2;\n",
    "    linhas = int(linhas);\n",
    "    #makeake subplots with plotly\n",
    "    for i in range(0, len(periodos)):\n",
    "        periodos[i] = str(periodos[i]);\n",
    "    xmax = 0;\n",
    "    for i in pesos:\n",
    "        for j in i:\n",
    "            if(j > xmax):\n",
    "                xmax = j;\n",
    "    xmax+=0.5;\n",
    "    #PLOTPLOTPLOTPLOTPLOTPLOTPLOTPLOTPLOTPLOT\n",
    "    fig = make_subplots(rows=linhas, cols=2, subplot_titles=periodos)\n",
    "    fig.update_yaxes(range=[0, 10])\n",
    "    #fig_add_bar\n",
    "    #ERRO AQUI #############################################################################\n",
    "    for i in range(0, len(periodos)): #pra cada período\n",
    "        if(i%2 == 0):\n",
    "            coluna = 1;\n",
    "            linha +=1;\n",
    "        else:\n",
    "            coluna = 2;\n",
    "        #\n",
    "        for j in range(0, len(materias[i])): #pra cada matéria\n",
    "            xminimo = pesos[i][j];\n",
    "            xmaximo = pesos[i][j+1]\n",
    "            for k in range(0, len(peso_avaliacoes[i][j])): #pra cada avaliação\n",
    "                if nota_avaliacoes[i][j][k] <= 6:\n",
    "                    color = 'red'\n",
    "                elif nota_avaliacoes[i][j][k]  < 7:\n",
    "                    color = 'yellow'\n",
    "                else:\n",
    "                    color = 'green'\n",
    "                if(k == 0):\n",
    "                    ali = (xmaximo+xminimo+0.5)/2\n",
    "                    fig.add_shape( type = \"rect\" , x0 = xminimo+0.5 ,  y0 = 0 ,  x1 = xmaximo ,  y1 = peso_avaliacoes[i][j][k],\n",
    "                     line=dict(color=\"White\"), text = 'Avaliação'+str(k+1)+str(Data_base[materias[i][j]]['Avaliação'+str(k+1)][0])+'%',\n",
    "                      fillcolor=color, row=linha, col=coluna)\n",
    "                    fig.add_trace(go.Scatter( x=[ali], y=[0], mode=\"markers+text\", name=\"Markers and Text\", text=[materias[i][j]], textposition=\"top center\"), row=linha, col=coluna)\n",
    "                        # fig . add_trace ( \n",
    "                        #     go . Scatter (  x = [ xminimo ,  xmaximo ],  y = [peso_avaliacoes[i][j][k], 0]), row=linha, col=coluna) \n",
    "                        # fig.add_trace(\n",
    "                        #     go.Bar(x=[xmaximo], y=[peso_avaliacoes[i][j][k]], base=[0]), row=linha, col=coluna)\n",
    "                else:\n",
    "                    fig . add_shape( type = \"rect\" , x0 = xminimo+0.5 ,  y0 = peso_avaliacoes[i][j][k-1] ,  x1 = xmaximo ,  y1 = peso_avaliacoes[i][j][k], line=dict(color=\"White\"),fillcolor=color, row=linha, col=coluna)\n",
    "                        # fig.add_trace(\n",
    "                        #     go.Bar(x=[xmaximo], y=[peso_avaliacoes[i][j][k]], base=[peso_avaliacoes[i][j][k-1]]), row=linha, col=coluna)\n",
    "                        #  fig . add_trace ( \n",
    "                        #     go . Scatter (  x = [ xminimo ,  xmaximo ],  y = [peso_avaliacoes[i][j][k], peso_avaliacoes[i][j][k-1]]), row=linha, col=coluna) \n",
    "                            # fig.add_trace(\n",
    "                            # go.Bar(x=[pesos[i][j-1], pesos[i][j]], y=[peso_avaliacoes[i][j][k]],base=[peso_avaliacoes[i][j][k-1]]), row=linha, col=coluna)\n",
    "        fig.add_shape( type = \"line\" , x0 = 0 ,  y0 = round(CR['Período'+str(periodos[i])],2) ,\n",
    "        x1 = xmax ,  y1 = round(CR['Período'+str(periodos[i])],2), line=dict(color=\"blue\"),\n",
    "        row=linha, col=coluna)\n",
    "        fig.add_shape( type = \"line\" , x0 = 0 ,  y0 = round(CR['Acumulado'],2) ,\n",
    "        x1 = xmax ,  y1 = round(CR['Acumulado'],2), line=dict(color=\"lightgreen\"),\n",
    "        row=linha, col=coluna)\n",
    "    #ERRO AQUI #############################################################################\n",
    "        # if len(materias[i]) > xmax:\n",
    "        #     xmax = len(materias[i]);\n",
    "        #give a periodo as title for each subplot\n",
    "        # fig.update_xaxes(range=[0, xmax], row=linha, col=coluna)\n",
    "    # fig.update_layout(title_text=Data_base[\"Nome\"]+'-'+str(Data_base['Matrícula']), title_x=0.5);\n",
    "    #show the plotly graph in the jupyter notebook\n",
    "    # iplot(fig);\n",
    "    # save the html\n",
    "    fig.write_html(\"test.html\", auto_open=True)\n",
    "\n",
    "#chamar função build\n",
    "plot(Data_base);\n"
   ]
  }
 ],
 "metadata": {
  "kernelspec": {
   "display_name": "Python 3",
   "language": "python",
   "name": "python3"
  },
  "language_info": {
   "codemirror_mode": {
    "name": "ipython",
    "version": 3
   },
   "file_extension": ".py",
   "mimetype": "text/x-python",
   "name": "python",
   "nbconvert_exporter": "python",
   "pygments_lexer": "ipython3",
   "version": "3.10.2 (tags/v3.10.2:a58ebcc, Jan 17 2022, 14:12:15) [MSC v.1929 64 bit (AMD64)]"
  },
  "orig_nbformat": 4,
  "vscode": {
   "interpreter": {
    "hash": "32f2fe102a4f10662d8c13f75131e1ba377b7194060421a642fdea27c55fc65a"
   }
  }
 },
 "nbformat": 4,
 "nbformat_minor": 2
}
